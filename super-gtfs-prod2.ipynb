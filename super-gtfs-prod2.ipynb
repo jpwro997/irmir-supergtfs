{
 "cells": [
  {
   "cell_type": "markdown",
   "id": "2a737bb0-fdfc-4227-a75f-0cfc48703932",
   "metadata": {},
   "source": [
    "Instalacja potrzebnych pakietów (pominąć, jeżeli już są zainstalowane):"
   ]
  },
  {
   "cell_type": "code",
   "execution_count": 1,
   "id": "474d7ab5-2bee-42de-9474-db51ec0cdae6",
   "metadata": {
    "tags": []
   },
   "outputs": [
    {
     "name": "stdout",
     "output_type": "stream",
     "text": [
      "Requirement already satisfied: pandas in /home/studio-lab-user/.conda/envs/custom_python/lib/python3.11/site-packages (2.2.3)\n",
      "Requirement already satisfied: numpy>=1.23.2 in /home/studio-lab-user/.conda/envs/custom_python/lib/python3.11/site-packages (from pandas) (2.2.2)\n",
      "Requirement already satisfied: python-dateutil>=2.8.2 in /home/studio-lab-user/.conda/envs/custom_python/lib/python3.11/site-packages (from pandas) (2.9.0.post0)\n",
      "Requirement already satisfied: pytz>=2020.1 in /home/studio-lab-user/.conda/envs/custom_python/lib/python3.11/site-packages (from pandas) (2025.1)\n",
      "Requirement already satisfied: tzdata>=2022.7 in /home/studio-lab-user/.conda/envs/custom_python/lib/python3.11/site-packages (from pandas) (2025.1)\n",
      "Requirement already satisfied: six>=1.5 in /home/studio-lab-user/.conda/envs/custom_python/lib/python3.11/site-packages (from python-dateutil>=2.8.2->pandas) (1.17.0)\n",
      "Note: you may need to restart the kernel to use updated packages.\n",
      "Requirement already satisfied: geopandas in /home/studio-lab-user/.conda/envs/custom_python/lib/python3.11/site-packages (1.0.1)\n",
      "Requirement already satisfied: numpy>=1.22 in /home/studio-lab-user/.conda/envs/custom_python/lib/python3.11/site-packages (from geopandas) (2.2.2)\n",
      "Requirement already satisfied: pyogrio>=0.7.2 in /home/studio-lab-user/.conda/envs/custom_python/lib/python3.11/site-packages (from geopandas) (0.10.0)\n",
      "Requirement already satisfied: packaging in /home/studio-lab-user/.conda/envs/custom_python/lib/python3.11/site-packages (from geopandas) (24.2)\n",
      "Requirement already satisfied: pandas>=1.4.0 in /home/studio-lab-user/.conda/envs/custom_python/lib/python3.11/site-packages (from geopandas) (2.2.3)\n",
      "Requirement already satisfied: pyproj>=3.3.0 in /home/studio-lab-user/.conda/envs/custom_python/lib/python3.11/site-packages (from geopandas) (3.7.0)\n",
      "Requirement already satisfied: shapely>=2.0.0 in /home/studio-lab-user/.conda/envs/custom_python/lib/python3.11/site-packages (from geopandas) (2.0.7)\n",
      "Requirement already satisfied: python-dateutil>=2.8.2 in /home/studio-lab-user/.conda/envs/custom_python/lib/python3.11/site-packages (from pandas>=1.4.0->geopandas) (2.9.0.post0)\n",
      "Requirement already satisfied: pytz>=2020.1 in /home/studio-lab-user/.conda/envs/custom_python/lib/python3.11/site-packages (from pandas>=1.4.0->geopandas) (2025.1)\n",
      "Requirement already satisfied: tzdata>=2022.7 in /home/studio-lab-user/.conda/envs/custom_python/lib/python3.11/site-packages (from pandas>=1.4.0->geopandas) (2025.1)\n",
      "Requirement already satisfied: certifi in /home/studio-lab-user/.conda/envs/custom_python/lib/python3.11/site-packages (from pyogrio>=0.7.2->geopandas) (2025.1.31)\n",
      "Requirement already satisfied: six>=1.5 in /home/studio-lab-user/.conda/envs/custom_python/lib/python3.11/site-packages (from python-dateutil>=2.8.2->pandas>=1.4.0->geopandas) (1.17.0)\n",
      "Note: you may need to restart the kernel to use updated packages.\n",
      "Requirement already satisfied: openpyxl in /home/studio-lab-user/.conda/envs/custom_python/lib/python3.11/site-packages (3.1.5)\n",
      "Requirement already satisfied: et-xmlfile in /home/studio-lab-user/.conda/envs/custom_python/lib/python3.11/site-packages (from openpyxl) (2.0.0)\n",
      "Note: you may need to restart the kernel to use updated packages.\n"
     ]
    }
   ],
   "source": [
    "%pip install pandas\n",
    "%pip install geopandas\n",
    "%pip install openpyxl"
   ]
  },
  {
   "cell_type": "markdown",
   "id": "d030fd9e-0c04-4db2-b102-f406eb8f7fa7",
   "metadata": {},
   "source": [
    "Importy potrzebnych paczek:"
   ]
  },
  {
   "cell_type": "code",
   "execution_count": 2,
   "id": "bb90d833-299c-48c5-944a-226aa326c923",
   "metadata": {
    "tags": []
   },
   "outputs": [],
   "source": [
    "import pandas as pd\n",
    "import geopandas as gpd\n",
    "import os\n",
    "import shutil\n",
    "from zipfile import ZipFile\n",
    "from datetime import datetime\n",
    "from urllib.request import urlretrieve\n",
    "import warnings"
   ]
  },
  {
   "cell_type": "markdown",
   "id": "12f29ff6-1c24-4427-9656-31b7d2382c32",
   "metadata": {},
   "source": [
    "Pobranie sygnatury czasowej - posłuży nam do identyfikacji wersji wygenerowanego przez nas GTFSu.\n",
    "Ignore warning, żeby nas nie irytowało ;) ale spokojnie to można usunąć."
   ]
  },
  {
   "cell_type": "code",
   "execution_count": 3,
   "id": "43596bf9-da07-4421-938b-63cc0c982fd1",
   "metadata": {},
   "outputs": [],
   "source": [
    "warnings.simplefilter(action='ignore')\n",
    "czas = datetime.now().strftime(\"%Y%m%d %H-%M-%S\")"
   ]
  },
  {
   "cell_type": "markdown",
   "id": "cff610ce-1736-42d8-9b64-c1f7f0a3d0fa",
   "metadata": {},
   "source": [
    "Pobieranie wykazu GTFS z pliku Excel:"
   ]
  },
  {
   "cell_type": "code",
   "execution_count": 4,
   "id": "b22e5de6-aa69-4dbd-a7f1-c94f445e486f",
   "metadata": {},
   "outputs": [],
   "source": [
    "os.chdir('src')\n",
    "nazwa_wykaz = 'irmir-wykaz-gtfs-prod'\n",
    "wykaz = pd.read_excel(nazwa_wykaz + '.xlsx', sheet_name=None)\n",
    "wykaz = wykaz.get(list(wykaz.keys())[0])\n",
    "wykaz = wykaz.dropna()"
   ]
  },
  {
   "cell_type": "markdown",
   "id": "dcff0fd2-c1a9-4970-8528-3ed95f3230a6",
   "metadata": {},
   "source": [
    "Pobieranie GTFS z internetu bądź kopiowanie istniejących - zgodnie z tym, co było umieszczone w wykazie:"
   ]
  },
  {
   "cell_type": "code",
   "execution_count": 5,
   "id": "8f198ce0-ae1f-49db-9ec1-b918d3e3a087",
   "metadata": {},
   "outputs": [
    {
     "name": "stdout",
     "output_type": "stream",
     "text": [
      "Pobieram GTFS dla: PKPIC\n",
      "===\n",
      "Kopiuję istniejący GTFS dla: KD\n",
      "===\n",
      "Pobieram GTFS dla: ŁKA\n",
      "===\n",
      "Pobieram GTFS dla: KMŁ\n",
      "===\n",
      "Pobieram GTFS dla: KŚ\n",
      "===\n",
      "Pobieram GTFS dla: KM\n",
      "===\n",
      "Pobieram GTFS dla: SKMW\n"
     ]
    },
    {
     "ename": "URLError",
     "evalue": "<urlopen error [Errno 110] Connection timed out>",
     "output_type": "error",
     "traceback": [
      "\u001b[0;31m---------------------------------------------------------------------------\u001b[0m",
      "\u001b[0;31mTimeoutError\u001b[0m                              Traceback (most recent call last)",
      "File \u001b[0;32m~/.conda/envs/custom_python/lib/python3.11/urllib/request.py:1348\u001b[0m, in \u001b[0;36mAbstractHTTPHandler.do_open\u001b[0;34m(self, http_class, req, **http_conn_args)\u001b[0m\n\u001b[1;32m   1347\u001b[0m \u001b[38;5;28;01mtry\u001b[39;00m:\n\u001b[0;32m-> 1348\u001b[0m     \u001b[43mh\u001b[49m\u001b[38;5;241;43m.\u001b[39;49m\u001b[43mrequest\u001b[49m\u001b[43m(\u001b[49m\u001b[43mreq\u001b[49m\u001b[38;5;241;43m.\u001b[39;49m\u001b[43mget_method\u001b[49m\u001b[43m(\u001b[49m\u001b[43m)\u001b[49m\u001b[43m,\u001b[49m\u001b[43m \u001b[49m\u001b[43mreq\u001b[49m\u001b[38;5;241;43m.\u001b[39;49m\u001b[43mselector\u001b[49m\u001b[43m,\u001b[49m\u001b[43m \u001b[49m\u001b[43mreq\u001b[49m\u001b[38;5;241;43m.\u001b[39;49m\u001b[43mdata\u001b[49m\u001b[43m,\u001b[49m\u001b[43m \u001b[49m\u001b[43mheaders\u001b[49m\u001b[43m,\u001b[49m\n\u001b[1;32m   1349\u001b[0m \u001b[43m              \u001b[49m\u001b[43mencode_chunked\u001b[49m\u001b[38;5;241;43m=\u001b[39;49m\u001b[43mreq\u001b[49m\u001b[38;5;241;43m.\u001b[39;49m\u001b[43mhas_header\u001b[49m\u001b[43m(\u001b[49m\u001b[38;5;124;43m'\u001b[39;49m\u001b[38;5;124;43mTransfer-encoding\u001b[39;49m\u001b[38;5;124;43m'\u001b[39;49m\u001b[43m)\u001b[49m\u001b[43m)\u001b[49m\n\u001b[1;32m   1350\u001b[0m \u001b[38;5;28;01mexcept\u001b[39;00m \u001b[38;5;167;01mOSError\u001b[39;00m \u001b[38;5;28;01mas\u001b[39;00m err: \u001b[38;5;66;03m# timeout error\u001b[39;00m\n",
      "File \u001b[0;32m~/.conda/envs/custom_python/lib/python3.11/http/client.py:1303\u001b[0m, in \u001b[0;36mHTTPConnection.request\u001b[0;34m(self, method, url, body, headers, encode_chunked)\u001b[0m\n\u001b[1;32m   1302\u001b[0m \u001b[38;5;250m\u001b[39m\u001b[38;5;124;03m\"\"\"Send a complete request to the server.\"\"\"\u001b[39;00m\n\u001b[0;32m-> 1303\u001b[0m \u001b[38;5;28;43mself\u001b[39;49m\u001b[38;5;241;43m.\u001b[39;49m\u001b[43m_send_request\u001b[49m\u001b[43m(\u001b[49m\u001b[43mmethod\u001b[49m\u001b[43m,\u001b[49m\u001b[43m \u001b[49m\u001b[43murl\u001b[49m\u001b[43m,\u001b[49m\u001b[43m \u001b[49m\u001b[43mbody\u001b[49m\u001b[43m,\u001b[49m\u001b[43m \u001b[49m\u001b[43mheaders\u001b[49m\u001b[43m,\u001b[49m\u001b[43m \u001b[49m\u001b[43mencode_chunked\u001b[49m\u001b[43m)\u001b[49m\n",
      "File \u001b[0;32m~/.conda/envs/custom_python/lib/python3.11/http/client.py:1349\u001b[0m, in \u001b[0;36mHTTPConnection._send_request\u001b[0;34m(self, method, url, body, headers, encode_chunked)\u001b[0m\n\u001b[1;32m   1348\u001b[0m     body \u001b[38;5;241m=\u001b[39m _encode(body, \u001b[38;5;124m'\u001b[39m\u001b[38;5;124mbody\u001b[39m\u001b[38;5;124m'\u001b[39m)\n\u001b[0;32m-> 1349\u001b[0m \u001b[38;5;28;43mself\u001b[39;49m\u001b[38;5;241;43m.\u001b[39;49m\u001b[43mendheaders\u001b[49m\u001b[43m(\u001b[49m\u001b[43mbody\u001b[49m\u001b[43m,\u001b[49m\u001b[43m \u001b[49m\u001b[43mencode_chunked\u001b[49m\u001b[38;5;241;43m=\u001b[39;49m\u001b[43mencode_chunked\u001b[49m\u001b[43m)\u001b[49m\n",
      "File \u001b[0;32m~/.conda/envs/custom_python/lib/python3.11/http/client.py:1298\u001b[0m, in \u001b[0;36mHTTPConnection.endheaders\u001b[0;34m(self, message_body, encode_chunked)\u001b[0m\n\u001b[1;32m   1297\u001b[0m     \u001b[38;5;28;01mraise\u001b[39;00m CannotSendHeader()\n\u001b[0;32m-> 1298\u001b[0m \u001b[38;5;28;43mself\u001b[39;49m\u001b[38;5;241;43m.\u001b[39;49m\u001b[43m_send_output\u001b[49m\u001b[43m(\u001b[49m\u001b[43mmessage_body\u001b[49m\u001b[43m,\u001b[49m\u001b[43m \u001b[49m\u001b[43mencode_chunked\u001b[49m\u001b[38;5;241;43m=\u001b[39;49m\u001b[43mencode_chunked\u001b[49m\u001b[43m)\u001b[49m\n",
      "File \u001b[0;32m~/.conda/envs/custom_python/lib/python3.11/http/client.py:1058\u001b[0m, in \u001b[0;36mHTTPConnection._send_output\u001b[0;34m(self, message_body, encode_chunked)\u001b[0m\n\u001b[1;32m   1057\u001b[0m \u001b[38;5;28;01mdel\u001b[39;00m \u001b[38;5;28mself\u001b[39m\u001b[38;5;241m.\u001b[39m_buffer[:]\n\u001b[0;32m-> 1058\u001b[0m \u001b[38;5;28;43mself\u001b[39;49m\u001b[38;5;241;43m.\u001b[39;49m\u001b[43msend\u001b[49m\u001b[43m(\u001b[49m\u001b[43mmsg\u001b[49m\u001b[43m)\u001b[49m\n\u001b[1;32m   1060\u001b[0m \u001b[38;5;28;01mif\u001b[39;00m message_body \u001b[38;5;129;01mis\u001b[39;00m \u001b[38;5;129;01mnot\u001b[39;00m \u001b[38;5;28;01mNone\u001b[39;00m:\n\u001b[1;32m   1061\u001b[0m \n\u001b[1;32m   1062\u001b[0m     \u001b[38;5;66;03m# create a consistent interface to message_body\u001b[39;00m\n",
      "File \u001b[0;32m~/.conda/envs/custom_python/lib/python3.11/http/client.py:996\u001b[0m, in \u001b[0;36mHTTPConnection.send\u001b[0;34m(self, data)\u001b[0m\n\u001b[1;32m    995\u001b[0m \u001b[38;5;28;01mif\u001b[39;00m \u001b[38;5;28mself\u001b[39m\u001b[38;5;241m.\u001b[39mauto_open:\n\u001b[0;32m--> 996\u001b[0m     \u001b[38;5;28;43mself\u001b[39;49m\u001b[38;5;241;43m.\u001b[39;49m\u001b[43mconnect\u001b[49m\u001b[43m(\u001b[49m\u001b[43m)\u001b[49m\n\u001b[1;32m    997\u001b[0m \u001b[38;5;28;01melse\u001b[39;00m:\n",
      "File \u001b[0;32m~/.conda/envs/custom_python/lib/python3.11/http/client.py:1468\u001b[0m, in \u001b[0;36mHTTPSConnection.connect\u001b[0;34m(self)\u001b[0m\n\u001b[1;32m   1466\u001b[0m \u001b[38;5;124m\"\u001b[39m\u001b[38;5;124mConnect to a host on a given (SSL) port.\u001b[39m\u001b[38;5;124m\"\u001b[39m\n\u001b[0;32m-> 1468\u001b[0m \u001b[38;5;28;43msuper\u001b[39;49m\u001b[43m(\u001b[49m\u001b[43m)\u001b[49m\u001b[38;5;241;43m.\u001b[39;49m\u001b[43mconnect\u001b[49m\u001b[43m(\u001b[49m\u001b[43m)\u001b[49m\n\u001b[1;32m   1470\u001b[0m \u001b[38;5;28;01mif\u001b[39;00m \u001b[38;5;28mself\u001b[39m\u001b[38;5;241m.\u001b[39m_tunnel_host:\n",
      "File \u001b[0;32m~/.conda/envs/custom_python/lib/python3.11/http/client.py:962\u001b[0m, in \u001b[0;36mHTTPConnection.connect\u001b[0;34m(self)\u001b[0m\n\u001b[1;32m    961\u001b[0m sys\u001b[38;5;241m.\u001b[39maudit(\u001b[38;5;124m\"\u001b[39m\u001b[38;5;124mhttp.client.connect\u001b[39m\u001b[38;5;124m\"\u001b[39m, \u001b[38;5;28mself\u001b[39m, \u001b[38;5;28mself\u001b[39m\u001b[38;5;241m.\u001b[39mhost, \u001b[38;5;28mself\u001b[39m\u001b[38;5;241m.\u001b[39mport)\n\u001b[0;32m--> 962\u001b[0m \u001b[38;5;28mself\u001b[39m\u001b[38;5;241m.\u001b[39msock \u001b[38;5;241m=\u001b[39m \u001b[38;5;28;43mself\u001b[39;49m\u001b[38;5;241;43m.\u001b[39;49m\u001b[43m_create_connection\u001b[49m\u001b[43m(\u001b[49m\n\u001b[1;32m    963\u001b[0m \u001b[43m    \u001b[49m\u001b[43m(\u001b[49m\u001b[38;5;28;43mself\u001b[39;49m\u001b[38;5;241;43m.\u001b[39;49m\u001b[43mhost\u001b[49m\u001b[43m,\u001b[49m\u001b[38;5;28;43mself\u001b[39;49m\u001b[38;5;241;43m.\u001b[39;49m\u001b[43mport\u001b[49m\u001b[43m)\u001b[49m\u001b[43m,\u001b[49m\u001b[43m \u001b[49m\u001b[38;5;28;43mself\u001b[39;49m\u001b[38;5;241;43m.\u001b[39;49m\u001b[43mtimeout\u001b[49m\u001b[43m,\u001b[49m\u001b[43m \u001b[49m\u001b[38;5;28;43mself\u001b[39;49m\u001b[38;5;241;43m.\u001b[39;49m\u001b[43msource_address\u001b[49m\u001b[43m)\u001b[49m\n\u001b[1;32m    964\u001b[0m \u001b[38;5;66;03m# Might fail in OSs that don't implement TCP_NODELAY\u001b[39;00m\n",
      "File \u001b[0;32m~/.conda/envs/custom_python/lib/python3.11/socket.py:863\u001b[0m, in \u001b[0;36mcreate_connection\u001b[0;34m(address, timeout, source_address, all_errors)\u001b[0m\n\u001b[1;32m    862\u001b[0m \u001b[38;5;28;01mif\u001b[39;00m \u001b[38;5;129;01mnot\u001b[39;00m all_errors:\n\u001b[0;32m--> 863\u001b[0m     \u001b[38;5;28;01mraise\u001b[39;00m exceptions[\u001b[38;5;241m0\u001b[39m]\n\u001b[1;32m    864\u001b[0m \u001b[38;5;28;01mraise\u001b[39;00m ExceptionGroup(\u001b[38;5;124m\"\u001b[39m\u001b[38;5;124mcreate_connection failed\u001b[39m\u001b[38;5;124m\"\u001b[39m, exceptions)\n",
      "File \u001b[0;32m~/.conda/envs/custom_python/lib/python3.11/socket.py:848\u001b[0m, in \u001b[0;36mcreate_connection\u001b[0;34m(address, timeout, source_address, all_errors)\u001b[0m\n\u001b[1;32m    847\u001b[0m     sock\u001b[38;5;241m.\u001b[39mbind(source_address)\n\u001b[0;32m--> 848\u001b[0m \u001b[43msock\u001b[49m\u001b[38;5;241;43m.\u001b[39;49m\u001b[43mconnect\u001b[49m\u001b[43m(\u001b[49m\u001b[43msa\u001b[49m\u001b[43m)\u001b[49m\n\u001b[1;32m    849\u001b[0m \u001b[38;5;66;03m# Break explicitly a reference cycle\u001b[39;00m\n",
      "\u001b[0;31mTimeoutError\u001b[0m: [Errno 110] Connection timed out",
      "\nDuring handling of the above exception, another exception occurred:\n",
      "\u001b[0;31mURLError\u001b[0m                                  Traceback (most recent call last)",
      "Cell \u001b[0;32mIn[5], line 8\u001b[0m\n\u001b[1;32m      6\u001b[0m \u001b[38;5;28;01mcase\u001b[39;00m \u001b[38;5;124m'\u001b[39m\u001b[38;5;124mU\u001b[39m\u001b[38;5;124m'\u001b[39m:\n\u001b[1;32m      7\u001b[0m     \u001b[38;5;28mprint\u001b[39m(\u001b[38;5;124m'\u001b[39m\u001b[38;5;124mPobieram GTFS dla:\u001b[39m\u001b[38;5;124m'\u001b[39m, wykaz\u001b[38;5;241m.\u001b[39mSkrot\u001b[38;5;241m.\u001b[39miloc[i])\n\u001b[0;32m----> 8\u001b[0m     \u001b[43murlretrieve\u001b[49m\u001b[43m(\u001b[49m\u001b[43mwykaz\u001b[49m\u001b[38;5;241;43m.\u001b[39;49m\u001b[43mAdres\u001b[49m\u001b[38;5;241;43m.\u001b[39;49m\u001b[43miloc\u001b[49m\u001b[43m[\u001b[49m\u001b[43mi\u001b[49m\u001b[43m]\u001b[49m\u001b[43m,\u001b[49m\u001b[43m \u001b[49m\u001b[43mwykaz\u001b[49m\u001b[38;5;241;43m.\u001b[39;49m\u001b[43mSkrot\u001b[49m\u001b[38;5;241;43m.\u001b[39;49m\u001b[43miloc\u001b[49m\u001b[43m[\u001b[49m\u001b[43mi\u001b[49m\u001b[43m]\u001b[49m\u001b[43m \u001b[49m\u001b[38;5;241;43m+\u001b[39;49m\u001b[43m \u001b[49m\u001b[38;5;124;43m'\u001b[39;49m\u001b[38;5;124;43m.zip\u001b[39;49m\u001b[38;5;124;43m'\u001b[39;49m\u001b[43m)\u001b[49m\n\u001b[1;32m      9\u001b[0m     \u001b[38;5;28;01mwith\u001b[39;00m ZipFile(wykaz\u001b[38;5;241m.\u001b[39mSkrot\u001b[38;5;241m.\u001b[39miloc[i] \u001b[38;5;241m+\u001b[39m \u001b[38;5;124m\"\u001b[39m\u001b[38;5;124m.zip\u001b[39m\u001b[38;5;124m\"\u001b[39m, \u001b[38;5;124m'\u001b[39m\u001b[38;5;124mr\u001b[39m\u001b[38;5;124m'\u001b[39m) \u001b[38;5;28;01mas\u001b[39;00m zObject:\n\u001b[1;32m     10\u001b[0m         zObject\u001b[38;5;241m.\u001b[39mextractall(wykaz\u001b[38;5;241m.\u001b[39mSkrot\u001b[38;5;241m.\u001b[39miloc[i])\n",
      "File \u001b[0;32m~/.conda/envs/custom_python/lib/python3.11/urllib/request.py:241\u001b[0m, in \u001b[0;36murlretrieve\u001b[0;34m(url, filename, reporthook, data)\u001b[0m\n\u001b[1;32m    224\u001b[0m \u001b[38;5;250m\u001b[39m\u001b[38;5;124;03m\"\"\"\u001b[39;00m\n\u001b[1;32m    225\u001b[0m \u001b[38;5;124;03mRetrieve a URL into a temporary location on disk.\u001b[39;00m\n\u001b[1;32m    226\u001b[0m \n\u001b[0;32m   (...)\u001b[0m\n\u001b[1;32m    237\u001b[0m \u001b[38;5;124;03mdata file as well as the resulting HTTPMessage object.\u001b[39;00m\n\u001b[1;32m    238\u001b[0m \u001b[38;5;124;03m\"\"\"\u001b[39;00m\n\u001b[1;32m    239\u001b[0m url_type, path \u001b[38;5;241m=\u001b[39m _splittype(url)\n\u001b[0;32m--> 241\u001b[0m \u001b[38;5;28;01mwith\u001b[39;00m contextlib\u001b[38;5;241m.\u001b[39mclosing(\u001b[43murlopen\u001b[49m\u001b[43m(\u001b[49m\u001b[43murl\u001b[49m\u001b[43m,\u001b[49m\u001b[43m \u001b[49m\u001b[43mdata\u001b[49m\u001b[43m)\u001b[49m) \u001b[38;5;28;01mas\u001b[39;00m fp:\n\u001b[1;32m    242\u001b[0m     headers \u001b[38;5;241m=\u001b[39m fp\u001b[38;5;241m.\u001b[39minfo()\n\u001b[1;32m    244\u001b[0m     \u001b[38;5;66;03m# Just return the local path and the \"headers\" for file://\u001b[39;00m\n\u001b[1;32m    245\u001b[0m     \u001b[38;5;66;03m# URLs. No sense in performing a copy unless requested.\u001b[39;00m\n",
      "File \u001b[0;32m~/.conda/envs/custom_python/lib/python3.11/urllib/request.py:216\u001b[0m, in \u001b[0;36murlopen\u001b[0;34m(url, data, timeout, cafile, capath, cadefault, context)\u001b[0m\n\u001b[1;32m    214\u001b[0m \u001b[38;5;28;01melse\u001b[39;00m:\n\u001b[1;32m    215\u001b[0m     opener \u001b[38;5;241m=\u001b[39m _opener\n\u001b[0;32m--> 216\u001b[0m \u001b[38;5;28;01mreturn\u001b[39;00m \u001b[43mopener\u001b[49m\u001b[38;5;241;43m.\u001b[39;49m\u001b[43mopen\u001b[49m\u001b[43m(\u001b[49m\u001b[43murl\u001b[49m\u001b[43m,\u001b[49m\u001b[43m \u001b[49m\u001b[43mdata\u001b[49m\u001b[43m,\u001b[49m\u001b[43m \u001b[49m\u001b[43mtimeout\u001b[49m\u001b[43m)\u001b[49m\n",
      "File \u001b[0;32m~/.conda/envs/custom_python/lib/python3.11/urllib/request.py:519\u001b[0m, in \u001b[0;36mOpenerDirector.open\u001b[0;34m(self, fullurl, data, timeout)\u001b[0m\n\u001b[1;32m    516\u001b[0m     req \u001b[38;5;241m=\u001b[39m meth(req)\n\u001b[1;32m    518\u001b[0m sys\u001b[38;5;241m.\u001b[39maudit(\u001b[38;5;124m'\u001b[39m\u001b[38;5;124murllib.Request\u001b[39m\u001b[38;5;124m'\u001b[39m, req\u001b[38;5;241m.\u001b[39mfull_url, req\u001b[38;5;241m.\u001b[39mdata, req\u001b[38;5;241m.\u001b[39mheaders, req\u001b[38;5;241m.\u001b[39mget_method())\n\u001b[0;32m--> 519\u001b[0m response \u001b[38;5;241m=\u001b[39m \u001b[38;5;28;43mself\u001b[39;49m\u001b[38;5;241;43m.\u001b[39;49m\u001b[43m_open\u001b[49m\u001b[43m(\u001b[49m\u001b[43mreq\u001b[49m\u001b[43m,\u001b[49m\u001b[43m \u001b[49m\u001b[43mdata\u001b[49m\u001b[43m)\u001b[49m\n\u001b[1;32m    521\u001b[0m \u001b[38;5;66;03m# post-process response\u001b[39;00m\n\u001b[1;32m    522\u001b[0m meth_name \u001b[38;5;241m=\u001b[39m protocol\u001b[38;5;241m+\u001b[39m\u001b[38;5;124m\"\u001b[39m\u001b[38;5;124m_response\u001b[39m\u001b[38;5;124m\"\u001b[39m\n",
      "File \u001b[0;32m~/.conda/envs/custom_python/lib/python3.11/urllib/request.py:536\u001b[0m, in \u001b[0;36mOpenerDirector._open\u001b[0;34m(self, req, data)\u001b[0m\n\u001b[1;32m    533\u001b[0m     \u001b[38;5;28;01mreturn\u001b[39;00m result\n\u001b[1;32m    535\u001b[0m protocol \u001b[38;5;241m=\u001b[39m req\u001b[38;5;241m.\u001b[39mtype\n\u001b[0;32m--> 536\u001b[0m result \u001b[38;5;241m=\u001b[39m \u001b[38;5;28;43mself\u001b[39;49m\u001b[38;5;241;43m.\u001b[39;49m\u001b[43m_call_chain\u001b[49m\u001b[43m(\u001b[49m\u001b[38;5;28;43mself\u001b[39;49m\u001b[38;5;241;43m.\u001b[39;49m\u001b[43mhandle_open\u001b[49m\u001b[43m,\u001b[49m\u001b[43m \u001b[49m\u001b[43mprotocol\u001b[49m\u001b[43m,\u001b[49m\u001b[43m \u001b[49m\u001b[43mprotocol\u001b[49m\u001b[43m \u001b[49m\u001b[38;5;241;43m+\u001b[39;49m\n\u001b[1;32m    537\u001b[0m \u001b[43m                          \u001b[49m\u001b[38;5;124;43m'\u001b[39;49m\u001b[38;5;124;43m_open\u001b[39;49m\u001b[38;5;124;43m'\u001b[39;49m\u001b[43m,\u001b[49m\u001b[43m \u001b[49m\u001b[43mreq\u001b[49m\u001b[43m)\u001b[49m\n\u001b[1;32m    538\u001b[0m \u001b[38;5;28;01mif\u001b[39;00m result:\n\u001b[1;32m    539\u001b[0m     \u001b[38;5;28;01mreturn\u001b[39;00m result\n",
      "File \u001b[0;32m~/.conda/envs/custom_python/lib/python3.11/urllib/request.py:496\u001b[0m, in \u001b[0;36mOpenerDirector._call_chain\u001b[0;34m(self, chain, kind, meth_name, *args)\u001b[0m\n\u001b[1;32m    494\u001b[0m \u001b[38;5;28;01mfor\u001b[39;00m handler \u001b[38;5;129;01min\u001b[39;00m handlers:\n\u001b[1;32m    495\u001b[0m     func \u001b[38;5;241m=\u001b[39m \u001b[38;5;28mgetattr\u001b[39m(handler, meth_name)\n\u001b[0;32m--> 496\u001b[0m     result \u001b[38;5;241m=\u001b[39m \u001b[43mfunc\u001b[49m\u001b[43m(\u001b[49m\u001b[38;5;241;43m*\u001b[39;49m\u001b[43margs\u001b[49m\u001b[43m)\u001b[49m\n\u001b[1;32m    497\u001b[0m     \u001b[38;5;28;01mif\u001b[39;00m result \u001b[38;5;129;01mis\u001b[39;00m \u001b[38;5;129;01mnot\u001b[39;00m \u001b[38;5;28;01mNone\u001b[39;00m:\n\u001b[1;32m    498\u001b[0m         \u001b[38;5;28;01mreturn\u001b[39;00m result\n",
      "File \u001b[0;32m~/.conda/envs/custom_python/lib/python3.11/urllib/request.py:1391\u001b[0m, in \u001b[0;36mHTTPSHandler.https_open\u001b[0;34m(self, req)\u001b[0m\n\u001b[1;32m   1390\u001b[0m \u001b[38;5;28;01mdef\u001b[39;00m\u001b[38;5;250m \u001b[39m\u001b[38;5;21mhttps_open\u001b[39m(\u001b[38;5;28mself\u001b[39m, req):\n\u001b[0;32m-> 1391\u001b[0m     \u001b[38;5;28;01mreturn\u001b[39;00m \u001b[38;5;28;43mself\u001b[39;49m\u001b[38;5;241;43m.\u001b[39;49m\u001b[43mdo_open\u001b[49m\u001b[43m(\u001b[49m\u001b[43mhttp\u001b[49m\u001b[38;5;241;43m.\u001b[39;49m\u001b[43mclient\u001b[49m\u001b[38;5;241;43m.\u001b[39;49m\u001b[43mHTTPSConnection\u001b[49m\u001b[43m,\u001b[49m\u001b[43m \u001b[49m\u001b[43mreq\u001b[49m\u001b[43m,\u001b[49m\n\u001b[1;32m   1392\u001b[0m \u001b[43m        \u001b[49m\u001b[43mcontext\u001b[49m\u001b[38;5;241;43m=\u001b[39;49m\u001b[38;5;28;43mself\u001b[39;49m\u001b[38;5;241;43m.\u001b[39;49m\u001b[43m_context\u001b[49m\u001b[43m,\u001b[49m\u001b[43m \u001b[49m\u001b[43mcheck_hostname\u001b[49m\u001b[38;5;241;43m=\u001b[39;49m\u001b[38;5;28;43mself\u001b[39;49m\u001b[38;5;241;43m.\u001b[39;49m\u001b[43m_check_hostname\u001b[49m\u001b[43m)\u001b[49m\n",
      "File \u001b[0;32m~/.conda/envs/custom_python/lib/python3.11/urllib/request.py:1351\u001b[0m, in \u001b[0;36mAbstractHTTPHandler.do_open\u001b[0;34m(self, http_class, req, **http_conn_args)\u001b[0m\n\u001b[1;32m   1348\u001b[0m         h\u001b[38;5;241m.\u001b[39mrequest(req\u001b[38;5;241m.\u001b[39mget_method(), req\u001b[38;5;241m.\u001b[39mselector, req\u001b[38;5;241m.\u001b[39mdata, headers,\n\u001b[1;32m   1349\u001b[0m                   encode_chunked\u001b[38;5;241m=\u001b[39mreq\u001b[38;5;241m.\u001b[39mhas_header(\u001b[38;5;124m'\u001b[39m\u001b[38;5;124mTransfer-encoding\u001b[39m\u001b[38;5;124m'\u001b[39m))\n\u001b[1;32m   1350\u001b[0m     \u001b[38;5;28;01mexcept\u001b[39;00m \u001b[38;5;167;01mOSError\u001b[39;00m \u001b[38;5;28;01mas\u001b[39;00m err: \u001b[38;5;66;03m# timeout error\u001b[39;00m\n\u001b[0;32m-> 1351\u001b[0m         \u001b[38;5;28;01mraise\u001b[39;00m URLError(err)\n\u001b[1;32m   1352\u001b[0m     r \u001b[38;5;241m=\u001b[39m h\u001b[38;5;241m.\u001b[39mgetresponse()\n\u001b[1;32m   1353\u001b[0m \u001b[38;5;28;01mexcept\u001b[39;00m:\n",
      "\u001b[0;31mURLError\u001b[0m: <urlopen error [Errno 110] Connection timed out>"
     ]
    }
   ],
   "source": [
    "os.mkdir(czas)\n",
    "os.chdir(czas)\n",
    "\n",
    "for i in range(0, len(wykaz)):\n",
    "    match wykaz.Typ_zrodla.iloc[i]:\n",
    "        case 'U':\n",
    "            print('Pobieram GTFS dla:', wykaz.Skrot.iloc[i])\n",
    "            urlretrieve(wykaz.Adres.iloc[i], wykaz.Skrot.iloc[i] + '.zip')\n",
    "            with ZipFile(wykaz.Skrot.iloc[i] + \".zip\", 'r') as zObject:\n",
    "                zObject.extractall(wykaz.Skrot.iloc[i])\n",
    "            print('===')\n",
    "        case 'F':\n",
    "            print('Kopiuję istniejący GTFS dla:', wykaz.Skrot.iloc[i])\n",
    "            os.chdir('..')\n",
    "            shutil.copyfile(wykaz.Adres.iloc[i] + '.zip', czas + '/' + wykaz.Skrot.iloc[i] + '.zip')\n",
    "            os.chdir(czas)\n",
    "            with ZipFile(wykaz.Skrot.iloc[i] + \".zip\", 'r') as zObject:\n",
    "                zObject.extractall(wykaz.Skrot.iloc[i])\n",
    "            print('===')"
   ]
  },
  {
   "cell_type": "markdown",
   "id": "f3b50bf2-ab0e-496b-91dd-c38a2a420b11",
   "metadata": {},
   "source": [
    "Tworzenie nowych tabel, do których będą scalane poszczególne GTFSy:"
   ]
  },
  {
   "cell_type": "code",
   "execution_count": 7,
   "id": "570de01e-1f45-45f2-8b8a-057022df8af3",
   "metadata": {},
   "outputs": [],
   "source": [
    "new_stops = pd.DataFrame(columns=['stop_id', 'stop_name', 'stop_lat', 'stop_lon'])\n",
    "new_routes = pd.DataFrame(columns=['route_id', 'agency_id', 'route_short_name', 'route_long_name', 'route_type'])\n",
    "new_trips = pd.DataFrame(columns=['route_id', 'service_id', 'trip_id', 'trip_headsign'])\n",
    "new_agency = pd.DataFrame(columns=['agency_id', 'agency_name','agency_url','agency_timezone'])\n",
    "new_stop_times = pd.DataFrame(columns=['trip_id','arrival_time','departure_time','stop_id','stop_sequence'])\n",
    "new_calendar_dates = pd.DataFrame(columns=['service_id' ,'date', 'exception_type'])\n",
    "new_calendar = pd.DataFrame(columns=['service_id','monday','tuesday','wednesday','thursday','friday','saturday','sunday','start_date','end_date'])"
   ]
  },
  {
   "cell_type": "markdown",
   "id": "a8a081a4-5aef-479f-a20f-f3faab3e2b1b",
   "metadata": {},
   "source": [
    "Główna pętla - pobieranie danych ze źródłowych GTFS i scalanie ich do tabel. Dla SKM Warszawa utworzony wyjątek, ponieważ ich GTFSy nie istnieją jako osobny plik, lecz jako element składowy w pliku od ZTM Warszawa."
   ]
  },
  {
   "cell_type": "code",
   "execution_count": 8,
   "id": "8a476bfc-ce88-4b81-b432-6b2e52e09473",
   "metadata": {},
   "outputs": [
    {
     "name": "stdout",
     "output_type": "stream",
     "text": [
      "Scalam GTFS dla:  PKPIC\n",
      "=== scalone ===\n",
      "Scalam GTFS dla:  KD\n",
      "=== scalone ===\n",
      "Scalam GTFS dla:  ŁKA\n",
      "=== scalone ===\n",
      "Scalam GTFS dla:  KMŁ\n",
      "=== scalone ===\n",
      "Scalam GTFS dla:  KŚ\n",
      "=== scalone ===\n",
      "Scalam GTFS dla:  KM\n",
      "=== scalone ===\n"
     ]
    }
   ],
   "source": [
    "lst_gtfs = next(os.walk('.'))[1]\n",
    "bool_cal = False\n",
    "bool_caldates = False\n",
    "\n",
    "\n",
    "for el in lst_gtfs:\n",
    "    os.chdir(el)\n",
    "    print('Scalam GTFS dla: ', el)\n",
    "    tmp_stops = pd.read_csv('stops.txt').apply(lambda x: x.str.strip() if x.dtype == 'object' else x)\n",
    "    tmp_stops = tmp_stops[['stop_id', 'stop_name', 'stop_lat', 'stop_lon']]\n",
    "    tmp_routes = pd.read_csv('routes.txt').apply(lambda x: x.str.strip() if x.dtype == 'object' else x)\n",
    "    if 'agency_id' in tmp_routes.columns.tolist():\n",
    "        tmp_routes = tmp_routes[['route_id', 'agency_id', 'route_short_name', 'route_long_name', 'route_type']]\n",
    "    else:\n",
    "        tmp_routes = tmp_routes[['route_id', 'route_short_name', 'route_long_name', 'route_type']]\n",
    "        tmp_routes['agency_id'] = el\n",
    "        tmp_routes = tmp_routes[['route_id', 'agency_id', 'route_short_name', 'route_long_name', 'route_type']]\n",
    "    tmp_trips = pd.read_csv('trips.txt').apply(lambda x: x.str.strip() if x.dtype == 'object' else x)\n",
    "    tmp_trips = tmp_trips[['route_id', 'service_id', 'trip_id', 'trip_headsign']]\n",
    "    tmp_agency = pd.read_csv('agency.txt').apply(lambda x: x.str.strip() if x.dtype == 'object' else x)\n",
    "    if 'agency_id' in tmp_agency.columns.tolist():\n",
    "        tmp_agency = tmp_agency[['agency_id','agency_name','agency_url','agency_timezone']]\n",
    "        tmp_agency.agency_url = 'https://irmir.pl/'\n",
    "    else:\n",
    "        tmp_agency = tmp_agency[['agency_name','agency_url','agency_timezone']]\n",
    "        tmp_agency['agency_id'] = el\n",
    "        tmp_agency = tmp_agency[['agency_id','agency_name','agency_url','agency_timezone']]\n",
    "        tmp_agency.agency_url = 'https://irmir.pl/'\n",
    "    tmp_stop_times = pd.read_csv('stop_times.txt', dtype={\"trip_id\": \"string\"}).apply(lambda x: x.str.strip() if x.dtype == 'object' else x)\n",
    "    tmp_stop_times = tmp_stop_times[['trip_id','arrival_time','departure_time','stop_id','stop_sequence']]\n",
    "    if (os.path.isfile('calendar_dates.txt')):\n",
    "        bool_caldates = True\n",
    "        tmp_calendar_dates = pd.read_csv('calendar_dates.txt').apply(lambda x: x.str.strip() if x.dtype == 'object' else x)\n",
    "        tmp_calendar_dates = tmp_calendar_dates[['service_id' ,'date', 'exception_type']]\n",
    "    if (os.path.isfile('calendar.txt')):\n",
    "        bool_cal = True\n",
    "        tmp_calendar = pd.read_csv('calendar.txt').apply(lambda x: x.str.strip() if x.dtype == 'object' else x)\n",
    "        tmp_calendar = tmp_calendar[['service_id','monday','tuesday','wednesday','thursday','friday','saturday','sunday','start_date','end_date']]\n",
    "\n",
    "    ### filtrowanie\n",
    "    tmp_routes = tmp_routes[tmp_routes.route_type == 2]\n",
    "    if el=='SKMW':\n",
    "        tmp_routes['coltmp'] = tmp_routes.route_short_name.astype(str).str[0]\n",
    "        tmp_routes = tmp_routes[tmp_routes.coltmp == 'S']\n",
    "        tmp_routes = tmp_routes[['route_id', 'agency_id', 'route_short_name', 'route_long_name', 'route_type']]\n",
    "    tmp_trips = tmp_trips[tmp_trips.route_id.isin(tmp_routes.route_id.tolist())]\n",
    "    tmp_stop_times = tmp_stop_times[tmp_stop_times.trip_id.isin(tmp_trips.trip_id.tolist())]\n",
    "    tmp_stops = tmp_stops[tmp_stops.stop_id.isin(tmp_stop_times.stop_id.tolist())]\n",
    "    tmp_agency = tmp_agency[tmp_agency.agency_id.isin(tmp_routes.agency_id.tolist())]\n",
    "\n",
    "    ### dodawanie skrotu do GTFS\n",
    "    tmp_stops.stop_id = el + tmp_stops.stop_id.astype(str)\n",
    "    tmp_routes.route_id = el + tmp_routes.route_id.astype(str)\n",
    "    tmp_routes.agency_id = el\n",
    "    tmp_trips.route_id = el + tmp_trips.route_id.astype(str)\n",
    "    tmp_trips.service_id = el + tmp_trips.service_id.astype(str)\n",
    "    tmp_trips.trip_id = el + tmp_trips.trip_id.astype(str)\n",
    "    tmp_agency.agency_id = el\n",
    "    tmp_stop_times.trip_id = el + tmp_stop_times.trip_id.astype(str)\n",
    "    tmp_stop_times.stop_id = el + tmp_stop_times.stop_id.astype(str)\n",
    "    if bool_caldates:\n",
    "        tmp_calendar_dates.service_id = el + tmp_calendar_dates.service_id.astype(str)\n",
    "    if bool_cal:\n",
    "        tmp_calendar.service_id = el + tmp_calendar.service_id.astype(str)\n",
    "\n",
    "    ### scalanie z główna tabelą\n",
    "    new_stops = pd.concat([new_stops, tmp_stops])\n",
    "    new_routes = pd.concat([new_routes, tmp_routes])\n",
    "    new_trips = pd.concat([new_trips, tmp_trips])\n",
    "    new_agency = pd.concat([new_agency, tmp_agency])\n",
    "    new_stop_times = pd.concat([new_stop_times, tmp_stop_times])\n",
    "    if bool_caldates:\n",
    "        new_calendar_dates = pd.concat([new_calendar_dates, tmp_calendar_dates])\n",
    "    if bool_cal:\n",
    "        new_calendar = pd.concat([new_calendar, tmp_calendar])\n",
    "\n",
    "    print('=== scalone ===')\n",
    "\n",
    "    bool_cal = False\n",
    "    bool_caldates = False\n",
    "    os.chdir('..')"
   ]
  },
  {
   "cell_type": "markdown",
   "id": "6cbb632e-634a-4a5d-b9fc-74832bcdf97d",
   "metadata": {},
   "source": [
    "Scalanie przystanków i stacji z różnych GTFSów. Ponieważ w plikach źródłowych nie jest używana jedna, wspólna baza, przystanki zostają scalone w ten sposób, że te leżące w odległości 260m od siebie (bufor 130m - wyznaczone \"doświadczalnie\") są połączone w jeden i jako ich lokalizacja brany jest centroid z połączonych buforów.\n",
    "Na koniec zostaje także zaktualizowana tabela stop_times."
   ]
  },
  {
   "cell_type": "code",
   "execution_count": 9,
   "id": "88ae3c9f-47ec-43a1-85af-80f5790e9ad1",
   "metadata": {},
   "outputs": [],
   "source": [
    "gdf_stops = gpd.GeoDataFrame(new_stops, geometry=gpd.points_from_xy(new_stops.stop_lon, new_stops.stop_lat), crs=\"EPSG:4326\")\n",
    "gdf_stops.geometry = gdf_stops.geometry.to_crs('EPSG:2180')\n",
    "gdf_stops.geometry = gdf_stops.geometry.buffer(130)\n",
    "\n",
    "gdf_intersects = gdf_stops.sjoin(gdf_stops, how=\"left\", predicate=\"intersects\")\n",
    "gdf_intersects_diss = gdf_intersects.dissolve(\"stop_id_right\",aggfunc=\"min\")\n",
    "gdf_intersects_diss = gdf_intersects_diss.reset_index().dissolve(\"stop_id_left\",aggfunc=\"min\")\n",
    "\n",
    "gdf_intersects_diss['centroid'] = gdf_intersects_diss.centroid\n",
    "\n",
    "gdf_intersects_a = gdf_stops.sjoin(gdf_intersects_diss, how=\"left\", predicate=\"intersects\")\n",
    "gdf_intersects_a['new_stop_id'] = 'n_' + gdf_intersects_a.stop_id_left.astype(str)\n",
    "slownik = pd.DataFrame(gdf_intersects_a[['stop_id', 'new_stop_id']])\n",
    "slownik.drop_duplicates(subset=['stop_id'], inplace=True)\n",
    "gdf_przystanki = gdf_intersects_a[['new_stop_id', 'stop_name_left', 'centroid']]\n",
    "\n",
    "gdf_przystanki.geometry = gdf_przystanki.centroid\n",
    "gdf_przystanki.drop_duplicates(inplace=True)\n",
    "gdf_przystanki.geometry = gdf_przystanki.geometry.to_crs('EPSG:4326')\n",
    "gdf_przystanki['stop_lon'] = gdf_przystanki.geometry.x\n",
    "gdf_przystanki['stop_lat'] = gdf_przystanki.geometry.y\n",
    "df_przystanki = pd.DataFrame(gdf_przystanki)\n",
    "df_przystanki = df_przystanki[['new_stop_id','stop_name_left','stop_lat','stop_lon']]\n",
    "df_przystanki.columns = ['stop_id','stop_name','stop_lat','stop_lon']\n",
    "df_przystanki.stop_name = df_przystanki.stop_name.str.title()\n",
    "df_przystanki_a = df_przystanki.drop_duplicates()\n",
    "\n",
    "new_stop_times = pd.merge(left=new_stop_times, right=slownik, left_on='stop_id', right_on='stop_id', how='left')\n",
    "new_stop_times = new_stop_times[['trip_id', 'arrival_time', 'departure_time', 'new_stop_id', 'stop_sequence']]\n",
    "new_stop_times.columns = ['trip_id', 'arrival_time', 'departure_time', 'stop_id', 'stop_sequence']"
   ]
  },
  {
   "cell_type": "markdown",
   "id": "7d708b13-4edc-4f42-9664-3529ef1dab78",
   "metadata": {},
   "source": [
    "Czyszczenie i eksport do wspólnego GTFSa."
   ]
  },
  {
   "cell_type": "code",
   "execution_count": 10,
   "id": "3b836c20-2cc4-4808-8c21-6e6cda89a7b0",
   "metadata": {},
   "outputs": [
    {
     "name": "stdout",
     "output_type": "stream",
     "text": [
      "Wygenerowano: agency\n",
      "Wygenerowano: routes\n",
      "Wygenerowano: stop_times\n",
      "Wygenerowano: trips\n",
      "Wygenerowano: stops\n",
      "Wygenerowano: calendar\n",
      "Wygenerowano: calendar_dates\n"
     ]
    }
   ],
   "source": [
    "for el in lst_gtfs:\n",
    "    shutil.rmtree(el)\n",
    "\n",
    "os.chdir('..')\n",
    "os.chdir('..')\n",
    "os.chdir('exports')\n",
    "\n",
    "os.mkdir('_scalony ' + czas)\n",
    "os.chdir('_scalony ' + czas)\n",
    "\n",
    "new_agency.to_csv('agency.txt', index = False)\n",
    "print('Wygenerowano: agency')\n",
    "new_routes.to_csv('routes.txt', index = False)\n",
    "print('Wygenerowano: routes')\n",
    "new_stop_times.to_csv('stop_times.txt', index = False)\n",
    "print('Wygenerowano: stop_times')\n",
    "new_trips.to_csv('trips.txt', index = False)\n",
    "print('Wygenerowano: trips')\n",
    "df_przystanki.to_csv('stops.txt', index = False)\n",
    "print('Wygenerowano: stops')\n",
    "new_calendar.to_csv('calendar.txt', index = False)\n",
    "print('Wygenerowano: calendar')\n",
    "new_calendar_dates.to_csv('calendar_dates.txt', index = False)\n",
    "print('Wygenerowano: calendar_dates')\n",
    "\n",
    "lista_pl_sklad = os.listdir()\n",
    "\n",
    "with ZipFile(\"_scalony GTFS \" + czas + \".zip\", 'w') as zObject2:\n",
    "    for el in lista_pl_sklad:\n",
    "        zObject2.write(el)"
   ]
  }
 ],
 "metadata": {
  "kernelspec": {
   "display_name": ".conda-custom_python:Python",
   "language": "python",
   "name": "conda-env-.conda-custom_python-py"
  },
  "language_info": {
   "codemirror_mode": {
    "name": "ipython",
    "version": 3
   },
   "file_extension": ".py",
   "mimetype": "text/x-python",
   "name": "python",
   "nbconvert_exporter": "python",
   "pygments_lexer": "ipython3",
   "version": "3.11.11"
  }
 },
 "nbformat": 4,
 "nbformat_minor": 5
}
